{
 "cells": [
  {
   "cell_type": "code",
   "execution_count": 89,
   "metadata": {
    "collapsed": true,
    "ExecuteTime": {
     "end_time": "2023-07-16T13:47:10.736318Z",
     "start_time": "2023-07-16T13:47:10.085395Z"
    }
   },
   "outputs": [
    {
     "ename": "NameError",
     "evalue": "name 'move_dict' is not defined",
     "output_type": "error",
     "traceback": [
      "\u001B[0;31m---------------------------------------------------------------------------\u001B[0m",
      "\u001B[0;31mNameError\u001B[0m                                 Traceback (most recent call last)",
      "Cell \u001B[0;32mIn[89], line 15\u001B[0m\n\u001B[1;32m     13\u001B[0m dex_df\u001B[38;5;241m.\u001B[39mdrop_duplicates(subset \u001B[38;5;241m=\u001B[39m [\u001B[38;5;124m'\u001B[39m\u001B[38;5;124mdexNr\u001B[39m\u001B[38;5;124m'\u001B[39m,\u001B[38;5;124m'\u001B[39m\u001B[38;5;124mform\u001B[39m\u001B[38;5;124m'\u001B[39m,\u001B[38;5;124m'\u001B[39m\u001B[38;5;124mat\u001B[39m\u001B[38;5;124m'\u001B[39m,\u001B[38;5;124m'\u001B[39m\u001B[38;5;124mde\u001B[39m\u001B[38;5;124m'\u001B[39m,\u001B[38;5;124m'\u001B[39m\u001B[38;5;124mhp\u001B[39m\u001B[38;5;124m'\u001B[39m,\u001B[38;5;124m'\u001B[39m\u001B[38;5;124mtype_1\u001B[39m\u001B[38;5;124m'\u001B[39m,\u001B[38;5;124m'\u001B[39m\u001B[38;5;124mtype_2\u001B[39m\u001B[38;5;124m'\u001B[39m],keep \u001B[38;5;241m=\u001B[39m \u001B[38;5;124m'\u001B[39m\u001B[38;5;124mfirst\u001B[39m\u001B[38;5;124m'\u001B[39m,ignore_index \u001B[38;5;241m=\u001B[39m \u001B[38;5;28;01mTrue\u001B[39;00m, inplace \u001B[38;5;241m=\u001B[39m \u001B[38;5;28;01mTrue\u001B[39;00m)\n\u001B[1;32m     14\u001B[0m \u001B[38;5;66;03m# moves_df = dex_df['fast_move'].explode(ignore_index = True).to_frame()\u001B[39;00m\n\u001B[0;32m---> 15\u001B[0m moves_df \u001B[38;5;241m=\u001B[39m \u001B[43mdex_df\u001B[49m\u001B[43m[\u001B[49m\u001B[38;5;124;43m'\u001B[39;49m\u001B[38;5;124;43mfast_move\u001B[39;49m\u001B[38;5;124;43m'\u001B[39;49m\u001B[43m]\u001B[49m\u001B[38;5;241;43m.\u001B[39;49m\u001B[43mexplode\u001B[49m\u001B[43m(\u001B[49m\u001B[43m)\u001B[49m\u001B[38;5;241;43m.\u001B[39;49m\u001B[43mto_frame\u001B[49m\u001B[43m(\u001B[49m\u001B[43m)\u001B[49m\u001B[38;5;241;43m.\u001B[39;49m\u001B[43mapply\u001B[49m\u001B[43m(\u001B[49m\u001B[38;5;28;43;01mlambda\u001B[39;49;00m\u001B[43m \u001B[49m\u001B[43mit\u001B[49m\u001B[43m:\u001B[49m\u001B[43m \u001B[49m\u001B[43m[\u001B[49m\u001B[38;5;28;43mlist\u001B[39;49m\u001B[43m(\u001B[49m\u001B[43mmove_dict\u001B[49m\u001B[43m(\u001B[49m\u001B[43mmov\u001B[49m\u001B[43m)\u001B[49m\u001B[38;5;241;43m.\u001B[39;49m\u001B[43mvalues\u001B[49m\u001B[43m(\u001B[49m\u001B[43m)\u001B[49m\u001B[43m)\u001B[49m\u001B[43m \u001B[49m\u001B[38;5;28;43;01mfor\u001B[39;49;00m\u001B[43m \u001B[49m\u001B[43mna\u001B[49m\u001B[43m,\u001B[49m\u001B[43mmov\u001B[49m\u001B[43m \u001B[49m\u001B[38;5;129;43;01min\u001B[39;49;00m\u001B[43m \u001B[49m\u001B[43mit\u001B[49m\u001B[43m[\u001B[49m\u001B[38;5;124;43m'\u001B[39;49m\u001B[38;5;124;43mfast_move\u001B[39;49m\u001B[38;5;124;43m'\u001B[39;49m\u001B[43m]\u001B[49m\u001B[38;5;241;43m.\u001B[39;49m\u001B[43mitems\u001B[49m\u001B[43m(\u001B[49m\u001B[43m)\u001B[49m\u001B[43m]\u001B[49m\u001B[43m[\u001B[49m\u001B[38;5;241;43m0\u001B[39;49m\u001B[43m]\u001B[49m\u001B[43m \u001B[49m\u001B[38;5;28;43;01mif\u001B[39;49;00m\u001B[43m \u001B[49m\u001B[43mit\u001B[49m\u001B[43m[\u001B[49m\u001B[38;5;124;43m'\u001B[39;49m\u001B[38;5;124;43mfast_move\u001B[39;49m\u001B[38;5;124;43m'\u001B[39;49m\u001B[43m]\u001B[49m\u001B[43m \u001B[49m\u001B[38;5;28;43;01melse\u001B[39;49;00m\u001B[43m \u001B[49m\u001B[43m[\u001B[49m\u001B[38;5;241;43m1\u001B[39;49m\u001B[43m,\u001B[49m\u001B[38;5;241;43m2\u001B[39;49m\u001B[43m,\u001B[49m\u001B[38;5;241;43m3\u001B[39;49m\u001B[43m,\u001B[49m\u001B[38;5;241;43m4\u001B[39;49m\u001B[43m,\u001B[49m\u001B[38;5;241;43m5\u001B[39;49m\u001B[43m,\u001B[49m\u001B[38;5;241;43m6\u001B[39;49m\u001B[43m]\u001B[49m\u001B[43m,\u001B[49m\u001B[43m \u001B[49m\u001B[43maxis\u001B[49m\u001B[38;5;241;43m=\u001B[39;49m\u001B[38;5;241;43m1\u001B[39;49m\u001B[43m,\u001B[49m\u001B[43m \u001B[49m\u001B[43mresult_type\u001B[49m\u001B[43m \u001B[49m\u001B[38;5;241;43m=\u001B[39;49m\u001B[43m \u001B[49m\u001B[38;5;124;43m'\u001B[39;49m\u001B[38;5;124;43mexpand\u001B[39;49m\u001B[38;5;124;43m'\u001B[39;49m\u001B[43m)\u001B[49m\u001B[38;5;241m.\u001B[39mdrop_duplicates()\n\u001B[1;32m     16\u001B[0m moves_df\n\u001B[1;32m     17\u001B[0m \u001B[38;5;66;03m# moves_dict.update(*mo)\u001B[39;00m\n\u001B[1;32m     18\u001B[0m     \u001B[38;5;66;03m# moves_dict = moves_dict.update() | ent\u001B[39;00m\n",
      "File \u001B[0;32m~/.pyenv/versions/poke/lib/python3.10/site-packages/pandas/core/frame.py:9423\u001B[0m, in \u001B[0;36mDataFrame.apply\u001B[0;34m(self, func, axis, raw, result_type, args, **kwargs)\u001B[0m\n\u001B[1;32m   9412\u001B[0m \u001B[38;5;28;01mfrom\u001B[39;00m \u001B[38;5;21;01mpandas\u001B[39;00m\u001B[38;5;21;01m.\u001B[39;00m\u001B[38;5;21;01mcore\u001B[39;00m\u001B[38;5;21;01m.\u001B[39;00m\u001B[38;5;21;01mapply\u001B[39;00m \u001B[38;5;28;01mimport\u001B[39;00m frame_apply\n\u001B[1;32m   9414\u001B[0m op \u001B[38;5;241m=\u001B[39m frame_apply(\n\u001B[1;32m   9415\u001B[0m     \u001B[38;5;28mself\u001B[39m,\n\u001B[1;32m   9416\u001B[0m     func\u001B[38;5;241m=\u001B[39mfunc,\n\u001B[0;32m   (...)\u001B[0m\n\u001B[1;32m   9421\u001B[0m     kwargs\u001B[38;5;241m=\u001B[39mkwargs,\n\u001B[1;32m   9422\u001B[0m )\n\u001B[0;32m-> 9423\u001B[0m \u001B[38;5;28;01mreturn\u001B[39;00m \u001B[43mop\u001B[49m\u001B[38;5;241;43m.\u001B[39;49m\u001B[43mapply\u001B[49m\u001B[43m(\u001B[49m\u001B[43m)\u001B[49m\u001B[38;5;241m.\u001B[39m__finalize__(\u001B[38;5;28mself\u001B[39m, method\u001B[38;5;241m=\u001B[39m\u001B[38;5;124m\"\u001B[39m\u001B[38;5;124mapply\u001B[39m\u001B[38;5;124m\"\u001B[39m)\n",
      "File \u001B[0;32m~/.pyenv/versions/poke/lib/python3.10/site-packages/pandas/core/apply.py:678\u001B[0m, in \u001B[0;36mFrameApply.apply\u001B[0;34m(self)\u001B[0m\n\u001B[1;32m    675\u001B[0m \u001B[38;5;28;01melif\u001B[39;00m \u001B[38;5;28mself\u001B[39m\u001B[38;5;241m.\u001B[39mraw:\n\u001B[1;32m    676\u001B[0m     \u001B[38;5;28;01mreturn\u001B[39;00m \u001B[38;5;28mself\u001B[39m\u001B[38;5;241m.\u001B[39mapply_raw()\n\u001B[0;32m--> 678\u001B[0m \u001B[38;5;28;01mreturn\u001B[39;00m \u001B[38;5;28;43mself\u001B[39;49m\u001B[38;5;241;43m.\u001B[39;49m\u001B[43mapply_standard\u001B[49m\u001B[43m(\u001B[49m\u001B[43m)\u001B[49m\n",
      "File \u001B[0;32m~/.pyenv/versions/poke/lib/python3.10/site-packages/pandas/core/apply.py:798\u001B[0m, in \u001B[0;36mFrameApply.apply_standard\u001B[0;34m(self)\u001B[0m\n\u001B[1;32m    797\u001B[0m \u001B[38;5;28;01mdef\u001B[39;00m \u001B[38;5;21mapply_standard\u001B[39m(\u001B[38;5;28mself\u001B[39m):\n\u001B[0;32m--> 798\u001B[0m     results, res_index \u001B[38;5;241m=\u001B[39m \u001B[38;5;28;43mself\u001B[39;49m\u001B[38;5;241;43m.\u001B[39;49m\u001B[43mapply_series_generator\u001B[49m\u001B[43m(\u001B[49m\u001B[43m)\u001B[49m\n\u001B[1;32m    800\u001B[0m     \u001B[38;5;66;03m# wrap results\u001B[39;00m\n\u001B[1;32m    801\u001B[0m     \u001B[38;5;28;01mreturn\u001B[39;00m \u001B[38;5;28mself\u001B[39m\u001B[38;5;241m.\u001B[39mwrap_results(results, res_index)\n",
      "File \u001B[0;32m~/.pyenv/versions/poke/lib/python3.10/site-packages/pandas/core/apply.py:814\u001B[0m, in \u001B[0;36mFrameApply.apply_series_generator\u001B[0;34m(self)\u001B[0m\n\u001B[1;32m    811\u001B[0m \u001B[38;5;28;01mwith\u001B[39;00m option_context(\u001B[38;5;124m\"\u001B[39m\u001B[38;5;124mmode.chained_assignment\u001B[39m\u001B[38;5;124m\"\u001B[39m, \u001B[38;5;28;01mNone\u001B[39;00m):\n\u001B[1;32m    812\u001B[0m     \u001B[38;5;28;01mfor\u001B[39;00m i, v \u001B[38;5;129;01min\u001B[39;00m \u001B[38;5;28menumerate\u001B[39m(series_gen):\n\u001B[1;32m    813\u001B[0m         \u001B[38;5;66;03m# ignore SettingWithCopy here in case the user mutates\u001B[39;00m\n\u001B[0;32m--> 814\u001B[0m         results[i] \u001B[38;5;241m=\u001B[39m \u001B[38;5;28;43mself\u001B[39;49m\u001B[38;5;241;43m.\u001B[39;49m\u001B[43mf\u001B[49m\u001B[43m(\u001B[49m\u001B[43mv\u001B[49m\u001B[43m)\u001B[49m\n\u001B[1;32m    815\u001B[0m         \u001B[38;5;28;01mif\u001B[39;00m \u001B[38;5;28misinstance\u001B[39m(results[i], ABCSeries):\n\u001B[1;32m    816\u001B[0m             \u001B[38;5;66;03m# If we have a view on v, we need to make a copy because\u001B[39;00m\n\u001B[1;32m    817\u001B[0m             \u001B[38;5;66;03m#  series_generator will swap out the underlying data\u001B[39;00m\n\u001B[1;32m    818\u001B[0m             results[i] \u001B[38;5;241m=\u001B[39m results[i]\u001B[38;5;241m.\u001B[39mcopy(deep\u001B[38;5;241m=\u001B[39m\u001B[38;5;28;01mFalse\u001B[39;00m)\n",
      "Cell \u001B[0;32mIn[89], line 15\u001B[0m, in \u001B[0;36m<lambda>\u001B[0;34m(it)\u001B[0m\n\u001B[1;32m     13\u001B[0m dex_df\u001B[38;5;241m.\u001B[39mdrop_duplicates(subset \u001B[38;5;241m=\u001B[39m [\u001B[38;5;124m'\u001B[39m\u001B[38;5;124mdexNr\u001B[39m\u001B[38;5;124m'\u001B[39m,\u001B[38;5;124m'\u001B[39m\u001B[38;5;124mform\u001B[39m\u001B[38;5;124m'\u001B[39m,\u001B[38;5;124m'\u001B[39m\u001B[38;5;124mat\u001B[39m\u001B[38;5;124m'\u001B[39m,\u001B[38;5;124m'\u001B[39m\u001B[38;5;124mde\u001B[39m\u001B[38;5;124m'\u001B[39m,\u001B[38;5;124m'\u001B[39m\u001B[38;5;124mhp\u001B[39m\u001B[38;5;124m'\u001B[39m,\u001B[38;5;124m'\u001B[39m\u001B[38;5;124mtype_1\u001B[39m\u001B[38;5;124m'\u001B[39m,\u001B[38;5;124m'\u001B[39m\u001B[38;5;124mtype_2\u001B[39m\u001B[38;5;124m'\u001B[39m],keep \u001B[38;5;241m=\u001B[39m \u001B[38;5;124m'\u001B[39m\u001B[38;5;124mfirst\u001B[39m\u001B[38;5;124m'\u001B[39m,ignore_index \u001B[38;5;241m=\u001B[39m \u001B[38;5;28;01mTrue\u001B[39;00m, inplace \u001B[38;5;241m=\u001B[39m \u001B[38;5;28;01mTrue\u001B[39;00m)\n\u001B[1;32m     14\u001B[0m \u001B[38;5;66;03m# moves_df = dex_df['fast_move'].explode(ignore_index = True).to_frame()\u001B[39;00m\n\u001B[0;32m---> 15\u001B[0m moves_df \u001B[38;5;241m=\u001B[39m dex_df[\u001B[38;5;124m'\u001B[39m\u001B[38;5;124mfast_move\u001B[39m\u001B[38;5;124m'\u001B[39m]\u001B[38;5;241m.\u001B[39mexplode()\u001B[38;5;241m.\u001B[39mto_frame()\u001B[38;5;241m.\u001B[39mapply(\u001B[38;5;28;01mlambda\u001B[39;00m it: [\u001B[38;5;28mlist\u001B[39m(move_dict(mov)\u001B[38;5;241m.\u001B[39mvalues()) \u001B[38;5;28;01mfor\u001B[39;00m na,mov \u001B[38;5;129;01min\u001B[39;00m it[\u001B[38;5;124m'\u001B[39m\u001B[38;5;124mfast_move\u001B[39m\u001B[38;5;124m'\u001B[39m]\u001B[38;5;241m.\u001B[39mitems()][\u001B[38;5;241m0\u001B[39m] \u001B[38;5;28;01mif\u001B[39;00m it[\u001B[38;5;124m'\u001B[39m\u001B[38;5;124mfast_move\u001B[39m\u001B[38;5;124m'\u001B[39m] \u001B[38;5;28;01melse\u001B[39;00m [\u001B[38;5;241m1\u001B[39m,\u001B[38;5;241m2\u001B[39m,\u001B[38;5;241m3\u001B[39m,\u001B[38;5;241m4\u001B[39m,\u001B[38;5;241m5\u001B[39m,\u001B[38;5;241m6\u001B[39m], axis\u001B[38;5;241m=\u001B[39m\u001B[38;5;241m1\u001B[39m, result_type \u001B[38;5;241m=\u001B[39m \u001B[38;5;124m'\u001B[39m\u001B[38;5;124mexpand\u001B[39m\u001B[38;5;124m'\u001B[39m)\u001B[38;5;241m.\u001B[39mdrop_duplicates()\n\u001B[1;32m     16\u001B[0m moves_df\n\u001B[1;32m     17\u001B[0m \u001B[38;5;66;03m# moves_dict.update(*mo)\u001B[39;00m\n\u001B[1;32m     18\u001B[0m     \u001B[38;5;66;03m# moves_dict = moves_dict.update() | ent\u001B[39;00m\n",
      "Cell \u001B[0;32mIn[89], line 15\u001B[0m, in \u001B[0;36m<listcomp>\u001B[0;34m(.0)\u001B[0m\n\u001B[1;32m     13\u001B[0m dex_df\u001B[38;5;241m.\u001B[39mdrop_duplicates(subset \u001B[38;5;241m=\u001B[39m [\u001B[38;5;124m'\u001B[39m\u001B[38;5;124mdexNr\u001B[39m\u001B[38;5;124m'\u001B[39m,\u001B[38;5;124m'\u001B[39m\u001B[38;5;124mform\u001B[39m\u001B[38;5;124m'\u001B[39m,\u001B[38;5;124m'\u001B[39m\u001B[38;5;124mat\u001B[39m\u001B[38;5;124m'\u001B[39m,\u001B[38;5;124m'\u001B[39m\u001B[38;5;124mde\u001B[39m\u001B[38;5;124m'\u001B[39m,\u001B[38;5;124m'\u001B[39m\u001B[38;5;124mhp\u001B[39m\u001B[38;5;124m'\u001B[39m,\u001B[38;5;124m'\u001B[39m\u001B[38;5;124mtype_1\u001B[39m\u001B[38;5;124m'\u001B[39m,\u001B[38;5;124m'\u001B[39m\u001B[38;5;124mtype_2\u001B[39m\u001B[38;5;124m'\u001B[39m],keep \u001B[38;5;241m=\u001B[39m \u001B[38;5;124m'\u001B[39m\u001B[38;5;124mfirst\u001B[39m\u001B[38;5;124m'\u001B[39m,ignore_index \u001B[38;5;241m=\u001B[39m \u001B[38;5;28;01mTrue\u001B[39;00m, inplace \u001B[38;5;241m=\u001B[39m \u001B[38;5;28;01mTrue\u001B[39;00m)\n\u001B[1;32m     14\u001B[0m \u001B[38;5;66;03m# moves_df = dex_df['fast_move'].explode(ignore_index = True).to_frame()\u001B[39;00m\n\u001B[0;32m---> 15\u001B[0m moves_df \u001B[38;5;241m=\u001B[39m dex_df[\u001B[38;5;124m'\u001B[39m\u001B[38;5;124mfast_move\u001B[39m\u001B[38;5;124m'\u001B[39m]\u001B[38;5;241m.\u001B[39mexplode()\u001B[38;5;241m.\u001B[39mto_frame()\u001B[38;5;241m.\u001B[39mapply(\u001B[38;5;28;01mlambda\u001B[39;00m it: [\u001B[38;5;28mlist\u001B[39m(\u001B[43mmove_dict\u001B[49m(mov)\u001B[38;5;241m.\u001B[39mvalues()) \u001B[38;5;28;01mfor\u001B[39;00m na,mov \u001B[38;5;129;01min\u001B[39;00m it[\u001B[38;5;124m'\u001B[39m\u001B[38;5;124mfast_move\u001B[39m\u001B[38;5;124m'\u001B[39m]\u001B[38;5;241m.\u001B[39mitems()][\u001B[38;5;241m0\u001B[39m] \u001B[38;5;28;01mif\u001B[39;00m it[\u001B[38;5;124m'\u001B[39m\u001B[38;5;124mfast_move\u001B[39m\u001B[38;5;124m'\u001B[39m] \u001B[38;5;28;01melse\u001B[39;00m [\u001B[38;5;241m1\u001B[39m,\u001B[38;5;241m2\u001B[39m,\u001B[38;5;241m3\u001B[39m,\u001B[38;5;241m4\u001B[39m,\u001B[38;5;241m5\u001B[39m,\u001B[38;5;241m6\u001B[39m], axis\u001B[38;5;241m=\u001B[39m\u001B[38;5;241m1\u001B[39m, result_type \u001B[38;5;241m=\u001B[39m \u001B[38;5;124m'\u001B[39m\u001B[38;5;124mexpand\u001B[39m\u001B[38;5;124m'\u001B[39m)\u001B[38;5;241m.\u001B[39mdrop_duplicates()\n\u001B[1;32m     16\u001B[0m moves_df\n\u001B[1;32m     17\u001B[0m \u001B[38;5;66;03m# moves_dict.update(*mo)\u001B[39;00m\n\u001B[1;32m     18\u001B[0m     \u001B[38;5;66;03m# moves_dict = moves_dict.update() | ent\u001B[39;00m\n",
      "\u001B[0;31mNameError\u001B[0m: name 'move_dict' is not defined"
     ]
    }
   ],
   "source": [
    "# import re\n",
    "#\n",
    "# import numpy as np\n",
    "# import numpy as np\n",
    "# from pdex_json import create_df, stat_calc, cpms_calc, cpms\n",
    "# import pandas as pd\n",
    "# import math\n",
    "#\n",
    "#\n",
    "# dex_df=create_df(\"./data/pdex_go.json\")\n",
    "# data = pd.read_csv(\"./data/poke_genie_export 3.csv\", index_col = 0)\n",
    "# data['Form'] = data['Form'].mask(data['Form'].fillna(\"Normal\").str.contains('Normal',regex=True))\n",
    "# dex_df.drop_duplicates(subset = ['dexNr','form','at','de','hp','type_1','type_2'],keep = 'first',ignore_index = True, inplace = True)\n",
    "# # moves_df = dex_df['fast_move'].explode(ignore_index = True).to_frame()\n",
    "# moves_df = dex_df['fast_move'].explode().to_frame().apply(lambda it: [list(move_dict(mov).values()) for na,mov in it['fast_move'].items()][0] if it['fast_move'] else [1,2,3,4,5,6], axis=1, result_type = 'expand').drop_duplicates()\n",
    "# moves_df\n",
    "# # moves_dict.update(*mo)\n",
    "#     # moves_dict = moves_dict.update() | ent"
   ]
  },
  {
   "cell_type": "code",
   "execution_count": 265,
   "outputs": [
    {
     "ename": "KeyError",
     "evalue": "'evolutions'",
     "output_type": "error",
     "traceback": [
      "\u001B[0;31m---------------------------------------------------------------------------\u001B[0m",
      "\u001B[0;31mKeyError\u001B[0m                                  Traceback (most recent call last)",
      "File \u001B[0;32m~/.pyenv/versions/poke/lib/python3.10/site-packages/pandas/core/indexes/base.py:3653\u001B[0m, in \u001B[0;36mIndex.get_loc\u001B[0;34m(self, key)\u001B[0m\n\u001B[1;32m   3652\u001B[0m \u001B[38;5;28;01mtry\u001B[39;00m:\n\u001B[0;32m-> 3653\u001B[0m     \u001B[38;5;28;01mreturn\u001B[39;00m \u001B[38;5;28;43mself\u001B[39;49m\u001B[38;5;241;43m.\u001B[39;49m\u001B[43m_engine\u001B[49m\u001B[38;5;241;43m.\u001B[39;49m\u001B[43mget_loc\u001B[49m\u001B[43m(\u001B[49m\u001B[43mcasted_key\u001B[49m\u001B[43m)\u001B[49m\n\u001B[1;32m   3654\u001B[0m \u001B[38;5;28;01mexcept\u001B[39;00m \u001B[38;5;167;01mKeyError\u001B[39;00m \u001B[38;5;28;01mas\u001B[39;00m err:\n",
      "File \u001B[0;32m~/.pyenv/versions/poke/lib/python3.10/site-packages/pandas/_libs/index.pyx:147\u001B[0m, in \u001B[0;36mpandas._libs.index.IndexEngine.get_loc\u001B[0;34m()\u001B[0m\n",
      "File \u001B[0;32m~/.pyenv/versions/poke/lib/python3.10/site-packages/pandas/_libs/index.pyx:176\u001B[0m, in \u001B[0;36mpandas._libs.index.IndexEngine.get_loc\u001B[0;34m()\u001B[0m\n",
      "File \u001B[0;32mpandas/_libs/hashtable_class_helper.pxi:7080\u001B[0m, in \u001B[0;36mpandas._libs.hashtable.PyObjectHashTable.get_item\u001B[0;34m()\u001B[0m\n",
      "File \u001B[0;32mpandas/_libs/hashtable_class_helper.pxi:7088\u001B[0m, in \u001B[0;36mpandas._libs.hashtable.PyObjectHashTable.get_item\u001B[0;34m()\u001B[0m\n",
      "\u001B[0;31mKeyError\u001B[0m: 'evolutions'",
      "\nThe above exception was the direct cause of the following exception:\n",
      "\u001B[0;31mKeyError\u001B[0m                                  Traceback (most recent call last)",
      "Cell \u001B[0;32mIn[265], line 16\u001B[0m\n\u001B[1;32m     14\u001B[0m df \u001B[38;5;241m=\u001B[39m pd\u001B[38;5;241m.\u001B[39mconcat([df\u001B[38;5;241m.\u001B[39mdrop([\u001B[38;5;124m'\u001B[39m\u001B[38;5;124mnext_evolution\u001B[39m\u001B[38;5;124m'\u001B[39m, \u001B[38;5;124m'\u001B[39m\u001B[38;5;124mprev_evolution\u001B[39m\u001B[38;5;124m'\u001B[39m], axis\u001B[38;5;241m=\u001B[39m\u001B[38;5;241m1\u001B[39m), df[\u001B[38;5;124m'\u001B[39m\u001B[38;5;124mnext_evolution\u001B[39m\u001B[38;5;124m'\u001B[39m]\u001B[38;5;241m.\u001B[39mapply(pd\u001B[38;5;241m.\u001B[39mSeries)\u001B[38;5;241m.\u001B[39mrename({\u001B[38;5;241m0\u001B[39m:\u001B[38;5;124m'\u001B[39m\u001B[38;5;124mevo_1\u001B[39m\u001B[38;5;124m'\u001B[39m,\u001B[38;5;241m1\u001B[39m:\u001B[38;5;124m'\u001B[39m\u001B[38;5;124mevo_2\u001B[39m\u001B[38;5;124m'\u001B[39m,\u001B[38;5;241m2\u001B[39m:\u001B[38;5;124m'\u001B[39m\u001B[38;5;124mevo_3\u001B[39m\u001B[38;5;124m'\u001B[39m},axis\u001B[38;5;241m=\u001B[39m\u001B[38;5;241m1\u001B[39m, errors\u001B[38;5;241m=\u001B[39m\u001B[38;5;124m'\u001B[39m\u001B[38;5;124mignore\u001B[39m\u001B[38;5;124m'\u001B[39m)], axis\u001B[38;5;241m=\u001B[39m\u001B[38;5;241m1\u001B[39m)\n\u001B[1;32m     15\u001B[0m df \u001B[38;5;241m=\u001B[39m pd\u001B[38;5;241m.\u001B[39mconcat([df\u001B[38;5;241m.\u001B[39mdrop([\u001B[38;5;124m'\u001B[39m\u001B[38;5;124mimg\u001B[39m\u001B[38;5;124m'\u001B[39m, \u001B[38;5;124m'\u001B[39m\u001B[38;5;124mtype\u001B[39m\u001B[38;5;124m'\u001B[39m, \u001B[38;5;124m'\u001B[39m\u001B[38;5;124mweaknesses\u001B[39m\u001B[38;5;124m'\u001B[39m], axis\u001B[38;5;241m=\u001B[39m\u001B[38;5;241m1\u001B[39m), df[\u001B[38;5;124m'\u001B[39m\u001B[38;5;124mtype\u001B[39m\u001B[38;5;124m'\u001B[39m]\u001B[38;5;241m.\u001B[39mapply(pd\u001B[38;5;241m.\u001B[39mSeries)\u001B[38;5;241m.\u001B[39mrename({\u001B[38;5;241m0\u001B[39m:\u001B[38;5;124m'\u001B[39m\u001B[38;5;124mprimary_type\u001B[39m\u001B[38;5;124m'\u001B[39m,\u001B[38;5;241m1\u001B[39m:\u001B[38;5;124m'\u001B[39m\u001B[38;5;124msec_type\u001B[39m\u001B[38;5;124m'\u001B[39m},axis\u001B[38;5;241m=\u001B[39m\u001B[38;5;241m1\u001B[39m)], axis\u001B[38;5;241m=\u001B[39m\u001B[38;5;241m1\u001B[39m)\n\u001B[0;32m---> 16\u001B[0m \u001B[43mdf\u001B[49m\u001B[43m[\u001B[49m\u001B[38;5;124;43m'\u001B[39;49m\u001B[38;5;124;43mevolutions\u001B[39;49m\u001B[38;5;124;43m'\u001B[39;49m\u001B[43m]\u001B[49m\u001B[38;5;241m.\u001B[39mstr\u001B[38;5;241m.\u001B[39mget(\u001B[38;5;241m0\u001B[39m)\n\u001B[1;32m     17\u001B[0m \u001B[38;5;66;03m# df = pd.concat([df.drop(['move'], axis=1), df['moves'].apply(pd.Series)], axis=1)\u001B[39;00m\n\u001B[1;32m     18\u001B[0m \n\u001B[1;32m     19\u001B[0m \u001B[38;5;66;03m# print(df[['name', 'id', 'height', 'weight', 'base-attack', 'base-defense', 'base-stamina', 'fast_moves', 'special_moves']])\u001B[39;00m\n",
      "File \u001B[0;32m~/.pyenv/versions/poke/lib/python3.10/site-packages/pandas/core/frame.py:3761\u001B[0m, in \u001B[0;36mDataFrame.__getitem__\u001B[0;34m(self, key)\u001B[0m\n\u001B[1;32m   3759\u001B[0m \u001B[38;5;28;01mif\u001B[39;00m \u001B[38;5;28mself\u001B[39m\u001B[38;5;241m.\u001B[39mcolumns\u001B[38;5;241m.\u001B[39mnlevels \u001B[38;5;241m>\u001B[39m \u001B[38;5;241m1\u001B[39m:\n\u001B[1;32m   3760\u001B[0m     \u001B[38;5;28;01mreturn\u001B[39;00m \u001B[38;5;28mself\u001B[39m\u001B[38;5;241m.\u001B[39m_getitem_multilevel(key)\n\u001B[0;32m-> 3761\u001B[0m indexer \u001B[38;5;241m=\u001B[39m \u001B[38;5;28;43mself\u001B[39;49m\u001B[38;5;241;43m.\u001B[39;49m\u001B[43mcolumns\u001B[49m\u001B[38;5;241;43m.\u001B[39;49m\u001B[43mget_loc\u001B[49m\u001B[43m(\u001B[49m\u001B[43mkey\u001B[49m\u001B[43m)\u001B[49m\n\u001B[1;32m   3762\u001B[0m \u001B[38;5;28;01mif\u001B[39;00m is_integer(indexer):\n\u001B[1;32m   3763\u001B[0m     indexer \u001B[38;5;241m=\u001B[39m [indexer]\n",
      "File \u001B[0;32m~/.pyenv/versions/poke/lib/python3.10/site-packages/pandas/core/indexes/base.py:3655\u001B[0m, in \u001B[0;36mIndex.get_loc\u001B[0;34m(self, key)\u001B[0m\n\u001B[1;32m   3653\u001B[0m     \u001B[38;5;28;01mreturn\u001B[39;00m \u001B[38;5;28mself\u001B[39m\u001B[38;5;241m.\u001B[39m_engine\u001B[38;5;241m.\u001B[39mget_loc(casted_key)\n\u001B[1;32m   3654\u001B[0m \u001B[38;5;28;01mexcept\u001B[39;00m \u001B[38;5;167;01mKeyError\u001B[39;00m \u001B[38;5;28;01mas\u001B[39;00m err:\n\u001B[0;32m-> 3655\u001B[0m     \u001B[38;5;28;01mraise\u001B[39;00m \u001B[38;5;167;01mKeyError\u001B[39;00m(key) \u001B[38;5;28;01mfrom\u001B[39;00m \u001B[38;5;21;01merr\u001B[39;00m\n\u001B[1;32m   3656\u001B[0m \u001B[38;5;28;01mexcept\u001B[39;00m \u001B[38;5;167;01mTypeError\u001B[39;00m:\n\u001B[1;32m   3657\u001B[0m     \u001B[38;5;66;03m# If we have a listlike key, _check_indexing_error will raise\u001B[39;00m\n\u001B[1;32m   3658\u001B[0m     \u001B[38;5;66;03m#  InvalidIndexError. Otherwise we fall through and re-raise\u001B[39;00m\n\u001B[1;32m   3659\u001B[0m     \u001B[38;5;66;03m#  the TypeError.\u001B[39;00m\n\u001B[1;32m   3660\u001B[0m     \u001B[38;5;28mself\u001B[39m\u001B[38;5;241m.\u001B[39m_check_indexing_error(key)\n",
      "\u001B[0;31mKeyError\u001B[0m: 'evolutions'"
     ]
    }
   ],
   "source": [
    "import pandas as pd\n",
    "import requests\n",
    "import json\n",
    "\n",
    "# with open(\"./data/pdex_go.json\", \"r\") as f:\n",
    "#     data = json.loads(f.read())\n",
    "url = 'https://raw.githubusercontent.com/Biuni/PokemonGO-Pokedex/master/pokedex.json'\n",
    "# r = requests.get(url)\n",
    "# data = json.loads(r.text)['pokemon']\n",
    "# df = pd.read_json(json.dumps(data))\n",
    "data = pd.read_json(url)\n",
    "\n",
    "df = pd.DataFrame(data['pokemon'].apply(pd.Series))\n",
    "df = pd.concat([df.drop(['next_evolution', 'prev_evolution'], axis=1), df['next_evolution'].apply(pd.Series).rename({0:'evo_1',1:'evo_2',2:'evo_3'},axis=1, errors='ignore')], axis=1)\n",
    "df = pd.concat([df.drop(['img', 'type', 'weaknesses'], axis=1), df['type'].apply(pd.Series).rename({0:'primary_type',1:'sec_type'},axis=1)], axis=1)\n",
    "df['evolutions'].str.get(0)\n",
    "# df = pd.concat([df.drop(['move'], axis=1), df['moves'].apply(pd.Series)], axis=1)\n",
    "\n",
    "# print(df[['name', 'id', 'height', 'weight', 'base-attack', 'base-defense', 'base-stamina', 'fast_moves', 'special_moves']])\n"
   ],
   "metadata": {
    "collapsed": false,
    "ExecuteTime": {
     "end_time": "2023-07-13T14:31:38.879524Z",
     "start_time": "2023-07-13T14:31:38.324082Z"
    }
   }
  },
  {
   "cell_type": "code",
   "execution_count": 88,
   "outputs": [
    {
     "data": {
      "text/plain": "              id      formId  dexNr  generation       names primaryType  \\\n0      BULBASAUR   BULBASAUR      1           1   Bulbasaur       Grass   \n1        IVYSAUR     IVYSAUR      2           1     Ivysaur       Grass   \n2       VENUSAUR    VENUSAUR      3           1    Venusaur       Grass   \n3     CHARMANDER  CHARMANDER      4           1  Charmander        Fire   \n4     CHARMELEON  CHARMELEON      5           1  Charmeleon        Fire   \n...          ...         ...    ...         ...         ...         ...   \n1196    URSALUNA    URSALUNA    901           9    Ursaluna      Ground   \n1197    SNEASLER    SNEASLER    903           9    Sneasler    Fighting   \n1198    OVERQWIL    OVERQWIL    904           9    Overqwil        Dark   \n1199  GIMMIGHOUL  GIMMIGHOUL    999           9  Gimmighoul       Ghost   \n1200   GHOLDENGO   GHOLDENGO   1000           9   Gholdengo       Steel   \n\n     secondaryType pokemonClass  \\\n0           Poison         None   \n1           Poison         None   \n2           Poison         None   \n3             None         None   \n4             None         None   \n...            ...          ...   \n1196        Normal         None   \n1197        Poison         None   \n1198        Poison         None   \n1199          None         None   \n1200         Ghost         None   \n\n                                             quickMoves  \\\n0                         [VINE_WHIP_FAST, TACKLE_FAST]   \n1                     [RAZOR_LEAF_FAST, VINE_WHIP_FAST]   \n2                     [RAZOR_LEAF_FAST, VINE_WHIP_FAST]   \n3                            [EMBER_FAST, SCRATCH_FAST]   \n4                          [EMBER_FAST, FIRE_FANG_FAST]   \n...                                                 ...   \n1196                     [TACKLE_FAST, ROCK_SMASH_FAST]   \n1197  [ROCK_SMASH_FAST, POISON_JAB_FAST, SHADOW_CLAW...   \n1198               [POISON_STING_FAST, POISON_JAB_FAST]   \n1199                                    [ASTONISH_FAST]   \n1200                          [ASTONISH_FAST, HEX_FAST]   \n\n                                         cinematicMoves  ...  \\\n0                  [SLUDGE_BOMB, SEED_BOMB, POWER_WHIP]  ...   \n1                 [SLUDGE_BOMB, SOLAR_BEAM, POWER_WHIP]  ...   \n2             [SLUDGE_BOMB, PETAL_BLIZZARD, SOLAR_BEAM]  ...   \n3             [FLAME_CHARGE, FLAME_BURST, FLAMETHROWER]  ...   \n4               [FIRE_PUNCH, FLAME_BURST, FLAMETHROWER]  ...   \n...                                                 ...  ...   \n1196  [FIRE_PUNCH, THUNDER_PUNCH, AERIAL_ACE, ICE_PU...  ...   \n1197              [AERIAL_ACE, CLOSE_COMBAT, X_SCISSOR]  ...   \n1198  [AQUA_TAIL, ICE_BEAM, SLUDGE_BOMB, DARK_PULSE,...  ...   \n1199                                      [SHADOW_BALL]  ...   \n1200         [SHADOW_BALL, DAZZLING_GLEAM, FOCUS_BLAST]  ...   \n\n     eliteCinematicMoves                                             assets  \\\n0                    NaN  {'image': 'https://raw.githubusercontent.com/P...   \n1                    NaN  {'image': 'https://raw.githubusercontent.com/P...   \n2         [FRENZY_PLANT]  {'image': 'https://raw.githubusercontent.com/P...   \n3                    NaN  {'image': 'https://raw.githubusercontent.com/P...   \n4                    NaN  {'image': 'https://raw.githubusercontent.com/P...   \n...                  ...                                                ...   \n1196   [HIGH_HORSEPOWER]  {'image': 'https://raw.githubusercontent.com/P...   \n1197                 NaN  {'image': 'https://raw.githubusercontent.com/P...   \n1198                 NaN  {'image': 'https://raw.githubusercontent.com/P...   \n1199                 NaN  {'image': 'https://raw.githubusercontent.com/P...   \n1200                 NaN  {'image': 'https://raw.githubusercontent.com/P...   \n\n     regionForms  evolutions hasMegaEvolution  megaEvolutions  \\\n0             []     IVYSAUR            False             NaN   \n1             []    VENUSAUR            False             NaN   \n2             []         NaN             True   VENUSAUR_MEGA   \n3             []  CHARMELEON            False             NaN   \n4             []   CHARIZARD            False             NaN   \n...          ...         ...              ...             ...   \n1196          []         NaN            False             NaN   \n1197          []         NaN            False             NaN   \n1198          []         NaN            False             NaN   \n1199          []   GHOLDENGO            False             NaN   \n1200          []         NaN            False             NaN   \n\n                                             assetForms stamina  attack  \\\n0     [{'form': None, 'costume': 'JAN_2020_NOEVOLVE'...   128.0   118.0   \n1     [{'form': None, 'costume': None, 'isFemale': F...   155.0   151.0   \n2     [{'form': 'COPY_2019', 'costume': None, 'isFem...   190.0   198.0   \n3     [{'form': None, 'costume': 'JAN_2020_NOEVOLVE'...   118.0   116.0   \n4     [{'form': None, 'costume': 'JAN_2020_NOEVOLVE'...   151.0   158.0   \n...                                                 ...     ...     ...   \n1196  [{'form': None, 'costume': None, 'isFemale': F...   277.0   243.0   \n1197  [{'form': None, 'costume': None, 'isFemale': F...   190.0   259.0   \n1198  [{'form': None, 'costume': None, 'isFemale': F...   198.0   222.0   \n1199  [{'form': None, 'costume': None, 'isFemale': F...   128.0   140.0   \n1200  [{'form': None, 'costume': None, 'isFemale': F...   202.0   252.0   \n\n      defense  \n0       111.0  \n1       143.0  \n2       189.0  \n3        93.0  \n4       126.0  \n...       ...  \n1196    181.0  \n1197    158.0  \n1198    171.0  \n1199     76.0  \n1200    190.0  \n\n[1201 rows x 21 columns]",
      "text/html": "<div>\n<style scoped>\n    .dataframe tbody tr th:only-of-type {\n        vertical-align: middle;\n    }\n\n    .dataframe tbody tr th {\n        vertical-align: top;\n    }\n\n    .dataframe thead th {\n        text-align: right;\n    }\n</style>\n<table border=\"1\" class=\"dataframe\">\n  <thead>\n    <tr style=\"text-align: right;\">\n      <th></th>\n      <th>id</th>\n      <th>formId</th>\n      <th>dexNr</th>\n      <th>generation</th>\n      <th>names</th>\n      <th>primaryType</th>\n      <th>secondaryType</th>\n      <th>pokemonClass</th>\n      <th>quickMoves</th>\n      <th>cinematicMoves</th>\n      <th>...</th>\n      <th>eliteCinematicMoves</th>\n      <th>assets</th>\n      <th>regionForms</th>\n      <th>evolutions</th>\n      <th>hasMegaEvolution</th>\n      <th>megaEvolutions</th>\n      <th>assetForms</th>\n      <th>stamina</th>\n      <th>attack</th>\n      <th>defense</th>\n    </tr>\n  </thead>\n  <tbody>\n    <tr>\n      <th>0</th>\n      <td>BULBASAUR</td>\n      <td>BULBASAUR</td>\n      <td>1</td>\n      <td>1</td>\n      <td>Bulbasaur</td>\n      <td>Grass</td>\n      <td>Poison</td>\n      <td>None</td>\n      <td>[VINE_WHIP_FAST, TACKLE_FAST]</td>\n      <td>[SLUDGE_BOMB, SEED_BOMB, POWER_WHIP]</td>\n      <td>...</td>\n      <td>NaN</td>\n      <td>{'image': 'https://raw.githubusercontent.com/P...</td>\n      <td>[]</td>\n      <td>IVYSAUR</td>\n      <td>False</td>\n      <td>NaN</td>\n      <td>[{'form': None, 'costume': 'JAN_2020_NOEVOLVE'...</td>\n      <td>128.0</td>\n      <td>118.0</td>\n      <td>111.0</td>\n    </tr>\n    <tr>\n      <th>1</th>\n      <td>IVYSAUR</td>\n      <td>IVYSAUR</td>\n      <td>2</td>\n      <td>1</td>\n      <td>Ivysaur</td>\n      <td>Grass</td>\n      <td>Poison</td>\n      <td>None</td>\n      <td>[RAZOR_LEAF_FAST, VINE_WHIP_FAST]</td>\n      <td>[SLUDGE_BOMB, SOLAR_BEAM, POWER_WHIP]</td>\n      <td>...</td>\n      <td>NaN</td>\n      <td>{'image': 'https://raw.githubusercontent.com/P...</td>\n      <td>[]</td>\n      <td>VENUSAUR</td>\n      <td>False</td>\n      <td>NaN</td>\n      <td>[{'form': None, 'costume': None, 'isFemale': F...</td>\n      <td>155.0</td>\n      <td>151.0</td>\n      <td>143.0</td>\n    </tr>\n    <tr>\n      <th>2</th>\n      <td>VENUSAUR</td>\n      <td>VENUSAUR</td>\n      <td>3</td>\n      <td>1</td>\n      <td>Venusaur</td>\n      <td>Grass</td>\n      <td>Poison</td>\n      <td>None</td>\n      <td>[RAZOR_LEAF_FAST, VINE_WHIP_FAST]</td>\n      <td>[SLUDGE_BOMB, PETAL_BLIZZARD, SOLAR_BEAM]</td>\n      <td>...</td>\n      <td>[FRENZY_PLANT]</td>\n      <td>{'image': 'https://raw.githubusercontent.com/P...</td>\n      <td>[]</td>\n      <td>NaN</td>\n      <td>True</td>\n      <td>VENUSAUR_MEGA</td>\n      <td>[{'form': 'COPY_2019', 'costume': None, 'isFem...</td>\n      <td>190.0</td>\n      <td>198.0</td>\n      <td>189.0</td>\n    </tr>\n    <tr>\n      <th>3</th>\n      <td>CHARMANDER</td>\n      <td>CHARMANDER</td>\n      <td>4</td>\n      <td>1</td>\n      <td>Charmander</td>\n      <td>Fire</td>\n      <td>None</td>\n      <td>None</td>\n      <td>[EMBER_FAST, SCRATCH_FAST]</td>\n      <td>[FLAME_CHARGE, FLAME_BURST, FLAMETHROWER]</td>\n      <td>...</td>\n      <td>NaN</td>\n      <td>{'image': 'https://raw.githubusercontent.com/P...</td>\n      <td>[]</td>\n      <td>CHARMELEON</td>\n      <td>False</td>\n      <td>NaN</td>\n      <td>[{'form': None, 'costume': 'JAN_2020_NOEVOLVE'...</td>\n      <td>118.0</td>\n      <td>116.0</td>\n      <td>93.0</td>\n    </tr>\n    <tr>\n      <th>4</th>\n      <td>CHARMELEON</td>\n      <td>CHARMELEON</td>\n      <td>5</td>\n      <td>1</td>\n      <td>Charmeleon</td>\n      <td>Fire</td>\n      <td>None</td>\n      <td>None</td>\n      <td>[EMBER_FAST, FIRE_FANG_FAST]</td>\n      <td>[FIRE_PUNCH, FLAME_BURST, FLAMETHROWER]</td>\n      <td>...</td>\n      <td>NaN</td>\n      <td>{'image': 'https://raw.githubusercontent.com/P...</td>\n      <td>[]</td>\n      <td>CHARIZARD</td>\n      <td>False</td>\n      <td>NaN</td>\n      <td>[{'form': None, 'costume': 'JAN_2020_NOEVOLVE'...</td>\n      <td>151.0</td>\n      <td>158.0</td>\n      <td>126.0</td>\n    </tr>\n    <tr>\n      <th>...</th>\n      <td>...</td>\n      <td>...</td>\n      <td>...</td>\n      <td>...</td>\n      <td>...</td>\n      <td>...</td>\n      <td>...</td>\n      <td>...</td>\n      <td>...</td>\n      <td>...</td>\n      <td>...</td>\n      <td>...</td>\n      <td>...</td>\n      <td>...</td>\n      <td>...</td>\n      <td>...</td>\n      <td>...</td>\n      <td>...</td>\n      <td>...</td>\n      <td>...</td>\n      <td>...</td>\n    </tr>\n    <tr>\n      <th>1196</th>\n      <td>URSALUNA</td>\n      <td>URSALUNA</td>\n      <td>901</td>\n      <td>9</td>\n      <td>Ursaluna</td>\n      <td>Ground</td>\n      <td>Normal</td>\n      <td>None</td>\n      <td>[TACKLE_FAST, ROCK_SMASH_FAST]</td>\n      <td>[FIRE_PUNCH, THUNDER_PUNCH, AERIAL_ACE, ICE_PU...</td>\n      <td>...</td>\n      <td>[HIGH_HORSEPOWER]</td>\n      <td>{'image': 'https://raw.githubusercontent.com/P...</td>\n      <td>[]</td>\n      <td>NaN</td>\n      <td>False</td>\n      <td>NaN</td>\n      <td>[{'form': None, 'costume': None, 'isFemale': F...</td>\n      <td>277.0</td>\n      <td>243.0</td>\n      <td>181.0</td>\n    </tr>\n    <tr>\n      <th>1197</th>\n      <td>SNEASLER</td>\n      <td>SNEASLER</td>\n      <td>903</td>\n      <td>9</td>\n      <td>Sneasler</td>\n      <td>Fighting</td>\n      <td>Poison</td>\n      <td>None</td>\n      <td>[ROCK_SMASH_FAST, POISON_JAB_FAST, SHADOW_CLAW...</td>\n      <td>[AERIAL_ACE, CLOSE_COMBAT, X_SCISSOR]</td>\n      <td>...</td>\n      <td>NaN</td>\n      <td>{'image': 'https://raw.githubusercontent.com/P...</td>\n      <td>[]</td>\n      <td>NaN</td>\n      <td>False</td>\n      <td>NaN</td>\n      <td>[{'form': None, 'costume': None, 'isFemale': F...</td>\n      <td>190.0</td>\n      <td>259.0</td>\n      <td>158.0</td>\n    </tr>\n    <tr>\n      <th>1198</th>\n      <td>OVERQWIL</td>\n      <td>OVERQWIL</td>\n      <td>904</td>\n      <td>9</td>\n      <td>Overqwil</td>\n      <td>Dark</td>\n      <td>Poison</td>\n      <td>None</td>\n      <td>[POISON_STING_FAST, POISON_JAB_FAST]</td>\n      <td>[AQUA_TAIL, ICE_BEAM, SLUDGE_BOMB, DARK_PULSE,...</td>\n      <td>...</td>\n      <td>NaN</td>\n      <td>{'image': 'https://raw.githubusercontent.com/P...</td>\n      <td>[]</td>\n      <td>NaN</td>\n      <td>False</td>\n      <td>NaN</td>\n      <td>[{'form': None, 'costume': None, 'isFemale': F...</td>\n      <td>198.0</td>\n      <td>222.0</td>\n      <td>171.0</td>\n    </tr>\n    <tr>\n      <th>1199</th>\n      <td>GIMMIGHOUL</td>\n      <td>GIMMIGHOUL</td>\n      <td>999</td>\n      <td>9</td>\n      <td>Gimmighoul</td>\n      <td>Ghost</td>\n      <td>None</td>\n      <td>None</td>\n      <td>[ASTONISH_FAST]</td>\n      <td>[SHADOW_BALL]</td>\n      <td>...</td>\n      <td>NaN</td>\n      <td>{'image': 'https://raw.githubusercontent.com/P...</td>\n      <td>[]</td>\n      <td>GHOLDENGO</td>\n      <td>False</td>\n      <td>NaN</td>\n      <td>[{'form': None, 'costume': None, 'isFemale': F...</td>\n      <td>128.0</td>\n      <td>140.0</td>\n      <td>76.0</td>\n    </tr>\n    <tr>\n      <th>1200</th>\n      <td>GHOLDENGO</td>\n      <td>GHOLDENGO</td>\n      <td>1000</td>\n      <td>9</td>\n      <td>Gholdengo</td>\n      <td>Steel</td>\n      <td>Ghost</td>\n      <td>None</td>\n      <td>[ASTONISH_FAST, HEX_FAST]</td>\n      <td>[SHADOW_BALL, DAZZLING_GLEAM, FOCUS_BLAST]</td>\n      <td>...</td>\n      <td>NaN</td>\n      <td>{'image': 'https://raw.githubusercontent.com/P...</td>\n      <td>[]</td>\n      <td>NaN</td>\n      <td>False</td>\n      <td>NaN</td>\n      <td>[{'form': None, 'costume': None, 'isFemale': F...</td>\n      <td>202.0</td>\n      <td>252.0</td>\n      <td>190.0</td>\n    </tr>\n  </tbody>\n</table>\n<p>1201 rows × 21 columns</p>\n</div>"
     },
     "execution_count": 88,
     "metadata": {},
     "output_type": "execute_result"
    }
   ],
   "source": [
    "import pandas as pd\n",
    "import requests\n",
    "import json\n",
    "dict_name_lookup = lambda x: x.get('names',x).get('English')\n",
    "\n",
    "def create_mut_idx(x,y):\n",
    "    x = x.drop(['combat'],axis=1)\n",
    "    x[['type','names']] = x[['type','names']].applymap(dict_name_lookup, na_action = 'ignore')\n",
    "    # li_y = [y]*x.shape[1]\n",
    "    # x.columns.set_levels()\n",
    "    x.drop_duplicates(subset='id', inplace=True)\n",
    "    m_idx = pd.MultiIndex.from_product([[y], x['id'].values], names=['cat', 'id'])\n",
    "    return x.drop(['id'],axis=1).set_index(m_idx,drop = True)\n",
    "def combine_df(x):\n",
    "    _ = pd.concat([x[y].dropna().explode().apply(pd.Series).pipe(create_mut_idx, y) for y in x.columns],axis=0)\n",
    "    # _['type'] = _[].map(dict_name_lookup)\n",
    "    # mi = _.columns.get_loc_level(['type','names'], level='cols')\n",
    "    # _[['type','names']] = _[['type','names']].applymap(dict_name_lookup, na_action = 'ignore')\n",
    "    return _.drop_duplicates()\n",
    "    # return _.drop_duplicates().set_index(['cat','id']).sort_index(level=0, ascending=True, sort_remaining=True)\n",
    "\n",
    "with open(\"./data/pdex_go.json\", \"r\") as f:\n",
    "    df = pd.read_json(f)\n",
    "df = pd.concat([df, df['regionForms'].mask(df['regionForms'].apply(len)==0).dropna().map(pd.Series,na_action = 'ignore').explode().apply(pd.Series)], ignore_index = True, axis=0).sort_values(by=['dexNr','formId']).reset_index(drop=True)\n",
    "# df['names'] = df['names'].str.get('English')\n",
    "df[['names','primaryType','secondaryType']] = df[['names','primaryType','secondaryType']].applymap(dict_name_lookup, na_action = 'ignore')\n",
    "df = pd.concat([df.drop(['stats'], axis=1), df['stats'].apply(pd.Series)], axis=1)\n",
    "df['evolutions'] = df['evolutions'].str.get(0).str.get('id')\n",
    "moves_cols = df.columns[df.columns.str.contains('Moves')].to_list()\n",
    "moves_df = df[moves_cols].mask(df[moves_cols].applymap(len)==0).applymap(lambda x: list(x.values()), na_action = 'ignore').pipe(combine_df)\n",
    "df[moves_cols] = df[moves_cols].mask(df[moves_cols].applymap(len)==0).applymap(lambda x: [y for y in x],na_action = 'ignore')\n",
    "df['megaEvolutions'] = df['megaEvolutions'].str.join(sep=\", \").str.rstrip(\", \").mask(df['megaEvolutions'].apply(len)==0)#.apply(lambda x: \",\".join(list(x.keys())))\n",
    "df\n",
    "# df['m'].mask"
   ],
   "metadata": {
    "collapsed": false,
    "ExecuteTime": {
     "end_time": "2023-07-14T15:53:23.926077Z",
     "start_time": "2023-07-14T15:53:22.321441Z"
    }
   }
  },
  {
   "cell_type": "code",
   "execution_count": 80,
   "outputs": [
    {
     "data": {
      "text/plain": "'quickMoves'"
     },
     "execution_count": 80,
     "metadata": {},
     "output_type": "execute_result"
    }
   ],
   "source": [
    "from functools import reduce\n",
    "temp_li = [*moves_cols]\n",
    "temp_li = dict(zip(temp_li[:1],temp_li[:1]))\n",
    "# temp_li\n",
    "list(temp_li.keys()).pop() if len(temp_li.keys())==1 else \",\".join(temp_li)\n",
    "# \",\".join(list(temp_li[:1])).rstrip(\",\")\n",
    "# df['megaEvolutions'].mask(df['megaEvolutions'].apply(len)==0).dropna().apply(lambda x: \",\".join(li) if len(li := list(x.keys()))>1 else li[0])\n",
    "# df['primaryType'].apply(pd.Series)['names'].get('English')\n",
    "# df['primaryType'] =\n",
    "# di_t = df['primaryType'].map(lambda x: x['names']['English']).iat[0]\n"
   ],
   "metadata": {
    "collapsed": false,
    "ExecuteTime": {
     "end_time": "2023-07-14T15:38:17.413004Z",
     "start_time": "2023-07-14T15:38:17.388399Z"
    }
   }
  },
  {
   "cell_type": "code",
   "execution_count": 53,
   "outputs": [
    {
     "data": {
      "text/plain": "              id      formId  dexNr  generation       names primaryType  \\\n0      BULBASAUR   BULBASAUR      1           1   Bulbasaur       Grass   \n1        IVYSAUR     IVYSAUR      2           1     Ivysaur       Grass   \n2       VENUSAUR    VENUSAUR      3           1    Venusaur       Grass   \n3     CHARMANDER  CHARMANDER      4           1  Charmander        Fire   \n4     CHARMELEON  CHARMELEON      5           1  Charmeleon        Fire   \n...          ...         ...    ...         ...         ...         ...   \n1196    URSALUNA    URSALUNA    901           9    Ursaluna      Ground   \n1197    SNEASLER    SNEASLER    903           9    Sneasler    Fighting   \n1198    OVERQWIL    OVERQWIL    904           9    Overqwil        Dark   \n1199  GIMMIGHOUL  GIMMIGHOUL    999           9  Gimmighoul       Ghost   \n1200   GHOLDENGO   GHOLDENGO   1000           9   Gholdengo       Steel   \n\n     secondaryType pokemonClass  \\\n0           Poison         None   \n1           Poison         None   \n2           Poison         None   \n3             None         None   \n4             None         None   \n...            ...          ...   \n1196        Normal         None   \n1197        Poison         None   \n1198        Poison         None   \n1199          None         None   \n1200         Ghost         None   \n\n                                             quickMoves  \\\n0                         [VINE_WHIP_FAST, TACKLE_FAST]   \n1                     [RAZOR_LEAF_FAST, VINE_WHIP_FAST]   \n2                     [RAZOR_LEAF_FAST, VINE_WHIP_FAST]   \n3                            [EMBER_FAST, SCRATCH_FAST]   \n4                          [EMBER_FAST, FIRE_FANG_FAST]   \n...                                                 ...   \n1196                     [TACKLE_FAST, ROCK_SMASH_FAST]   \n1197  [ROCK_SMASH_FAST, POISON_JAB_FAST, SHADOW_CLAW...   \n1198               [POISON_STING_FAST, POISON_JAB_FAST]   \n1199                                    [ASTONISH_FAST]   \n1200                          [ASTONISH_FAST, HEX_FAST]   \n\n                                         cinematicMoves eliteQuickMoves  \\\n0                  [SLUDGE_BOMB, SEED_BOMB, POWER_WHIP]              []   \n1                 [SLUDGE_BOMB, SOLAR_BEAM, POWER_WHIP]              []   \n2             [SLUDGE_BOMB, PETAL_BLIZZARD, SOLAR_BEAM]              []   \n3             [FLAME_CHARGE, FLAME_BURST, FLAMETHROWER]              []   \n4               [FIRE_PUNCH, FLAME_BURST, FLAMETHROWER]  [SCRATCH_FAST]   \n...                                                 ...             ...   \n1196  [FIRE_PUNCH, THUNDER_PUNCH, AERIAL_ACE, ICE_PU...              []   \n1197              [AERIAL_ACE, CLOSE_COMBAT, X_SCISSOR]              []   \n1198  [AQUA_TAIL, ICE_BEAM, SLUDGE_BOMB, DARK_PULSE,...              []   \n1199                                      [SHADOW_BALL]              []   \n1200         [SHADOW_BALL, DAZZLING_GLEAM, FOCUS_BLAST]              []   \n\n     eliteCinematicMoves                                             assets  \\\n0                     []  {'image': 'https://raw.githubusercontent.com/P...   \n1                     []  {'image': 'https://raw.githubusercontent.com/P...   \n2         [FRENZY_PLANT]  {'image': 'https://raw.githubusercontent.com/P...   \n3                     []  {'image': 'https://raw.githubusercontent.com/P...   \n4                     []  {'image': 'https://raw.githubusercontent.com/P...   \n...                  ...                                                ...   \n1196   [HIGH_HORSEPOWER]  {'image': 'https://raw.githubusercontent.com/P...   \n1197                  []  {'image': 'https://raw.githubusercontent.com/P...   \n1198                  []  {'image': 'https://raw.githubusercontent.com/P...   \n1199                  []  {'image': 'https://raw.githubusercontent.com/P...   \n1200                  []  {'image': 'https://raw.githubusercontent.com/P...   \n\n      evolutions  hasMegaEvolution  \\\n0        IVYSAUR             False   \n1       VENUSAUR             False   \n2            NaN              True   \n3     CHARMELEON             False   \n4      CHARIZARD             False   \n...          ...               ...   \n1196         NaN             False   \n1197         NaN             False   \n1198         NaN             False   \n1199   GHOLDENGO             False   \n1200         NaN             False   \n\n                                         megaEvolutions  \\\n0                                                    []   \n1                                                    []   \n2     {'VENUSAUR_MEGA': {'id': 'VENUSAUR_MEGA', 'nam...   \n3                                                    []   \n4                                                    []   \n...                                                 ...   \n1196                                                 []   \n1197                                                 []   \n1198                                                 []   \n1199                                                 []   \n1200                                                 []   \n\n                                             assetForms  stamina  attack  \\\n0     [{'form': None, 'costume': 'JAN_2020_NOEVOLVE'...    128.0   118.0   \n1     [{'form': None, 'costume': None, 'isFemale': F...    155.0   151.0   \n2     [{'form': 'COPY_2019', 'costume': None, 'isFem...    190.0   198.0   \n3     [{'form': None, 'costume': 'JAN_2020_NOEVOLVE'...    118.0   116.0   \n4     [{'form': None, 'costume': 'JAN_2020_NOEVOLVE'...    151.0   158.0   \n...                                                 ...      ...     ...   \n1196  [{'form': None, 'costume': None, 'isFemale': F...    277.0   243.0   \n1197  [{'form': None, 'costume': None, 'isFemale': F...    190.0   259.0   \n1198  [{'form': None, 'costume': None, 'isFemale': F...    198.0   222.0   \n1199  [{'form': None, 'costume': None, 'isFemale': F...    128.0   140.0   \n1200  [{'form': None, 'costume': None, 'isFemale': F...    202.0   252.0   \n\n      defense  \n0       111.0  \n1       143.0  \n2       189.0  \n3        93.0  \n4       126.0  \n...       ...  \n1196    181.0  \n1197    158.0  \n1198    171.0  \n1199     76.0  \n1200    190.0  \n\n[1201 rows x 20 columns]",
      "text/html": "<div>\n<style scoped>\n    .dataframe tbody tr th:only-of-type {\n        vertical-align: middle;\n    }\n\n    .dataframe tbody tr th {\n        vertical-align: top;\n    }\n\n    .dataframe thead th {\n        text-align: right;\n    }\n</style>\n<table border=\"1\" class=\"dataframe\">\n  <thead>\n    <tr style=\"text-align: right;\">\n      <th></th>\n      <th>id</th>\n      <th>formId</th>\n      <th>dexNr</th>\n      <th>generation</th>\n      <th>names</th>\n      <th>primaryType</th>\n      <th>secondaryType</th>\n      <th>pokemonClass</th>\n      <th>quickMoves</th>\n      <th>cinematicMoves</th>\n      <th>eliteQuickMoves</th>\n      <th>eliteCinematicMoves</th>\n      <th>assets</th>\n      <th>evolutions</th>\n      <th>hasMegaEvolution</th>\n      <th>megaEvolutions</th>\n      <th>assetForms</th>\n      <th>stamina</th>\n      <th>attack</th>\n      <th>defense</th>\n    </tr>\n  </thead>\n  <tbody>\n    <tr>\n      <th>0</th>\n      <td>BULBASAUR</td>\n      <td>BULBASAUR</td>\n      <td>1</td>\n      <td>1</td>\n      <td>Bulbasaur</td>\n      <td>Grass</td>\n      <td>Poison</td>\n      <td>None</td>\n      <td>[VINE_WHIP_FAST, TACKLE_FAST]</td>\n      <td>[SLUDGE_BOMB, SEED_BOMB, POWER_WHIP]</td>\n      <td>[]</td>\n      <td>[]</td>\n      <td>{'image': 'https://raw.githubusercontent.com/P...</td>\n      <td>IVYSAUR</td>\n      <td>False</td>\n      <td>[]</td>\n      <td>[{'form': None, 'costume': 'JAN_2020_NOEVOLVE'...</td>\n      <td>128.0</td>\n      <td>118.0</td>\n      <td>111.0</td>\n    </tr>\n    <tr>\n      <th>1</th>\n      <td>IVYSAUR</td>\n      <td>IVYSAUR</td>\n      <td>2</td>\n      <td>1</td>\n      <td>Ivysaur</td>\n      <td>Grass</td>\n      <td>Poison</td>\n      <td>None</td>\n      <td>[RAZOR_LEAF_FAST, VINE_WHIP_FAST]</td>\n      <td>[SLUDGE_BOMB, SOLAR_BEAM, POWER_WHIP]</td>\n      <td>[]</td>\n      <td>[]</td>\n      <td>{'image': 'https://raw.githubusercontent.com/P...</td>\n      <td>VENUSAUR</td>\n      <td>False</td>\n      <td>[]</td>\n      <td>[{'form': None, 'costume': None, 'isFemale': F...</td>\n      <td>155.0</td>\n      <td>151.0</td>\n      <td>143.0</td>\n    </tr>\n    <tr>\n      <th>2</th>\n      <td>VENUSAUR</td>\n      <td>VENUSAUR</td>\n      <td>3</td>\n      <td>1</td>\n      <td>Venusaur</td>\n      <td>Grass</td>\n      <td>Poison</td>\n      <td>None</td>\n      <td>[RAZOR_LEAF_FAST, VINE_WHIP_FAST]</td>\n      <td>[SLUDGE_BOMB, PETAL_BLIZZARD, SOLAR_BEAM]</td>\n      <td>[]</td>\n      <td>[FRENZY_PLANT]</td>\n      <td>{'image': 'https://raw.githubusercontent.com/P...</td>\n      <td>NaN</td>\n      <td>True</td>\n      <td>{'VENUSAUR_MEGA': {'id': 'VENUSAUR_MEGA', 'nam...</td>\n      <td>[{'form': 'COPY_2019', 'costume': None, 'isFem...</td>\n      <td>190.0</td>\n      <td>198.0</td>\n      <td>189.0</td>\n    </tr>\n    <tr>\n      <th>3</th>\n      <td>CHARMANDER</td>\n      <td>CHARMANDER</td>\n      <td>4</td>\n      <td>1</td>\n      <td>Charmander</td>\n      <td>Fire</td>\n      <td>None</td>\n      <td>None</td>\n      <td>[EMBER_FAST, SCRATCH_FAST]</td>\n      <td>[FLAME_CHARGE, FLAME_BURST, FLAMETHROWER]</td>\n      <td>[]</td>\n      <td>[]</td>\n      <td>{'image': 'https://raw.githubusercontent.com/P...</td>\n      <td>CHARMELEON</td>\n      <td>False</td>\n      <td>[]</td>\n      <td>[{'form': None, 'costume': 'JAN_2020_NOEVOLVE'...</td>\n      <td>118.0</td>\n      <td>116.0</td>\n      <td>93.0</td>\n    </tr>\n    <tr>\n      <th>4</th>\n      <td>CHARMELEON</td>\n      <td>CHARMELEON</td>\n      <td>5</td>\n      <td>1</td>\n      <td>Charmeleon</td>\n      <td>Fire</td>\n      <td>None</td>\n      <td>None</td>\n      <td>[EMBER_FAST, FIRE_FANG_FAST]</td>\n      <td>[FIRE_PUNCH, FLAME_BURST, FLAMETHROWER]</td>\n      <td>[SCRATCH_FAST]</td>\n      <td>[]</td>\n      <td>{'image': 'https://raw.githubusercontent.com/P...</td>\n      <td>CHARIZARD</td>\n      <td>False</td>\n      <td>[]</td>\n      <td>[{'form': None, 'costume': 'JAN_2020_NOEVOLVE'...</td>\n      <td>151.0</td>\n      <td>158.0</td>\n      <td>126.0</td>\n    </tr>\n    <tr>\n      <th>...</th>\n      <td>...</td>\n      <td>...</td>\n      <td>...</td>\n      <td>...</td>\n      <td>...</td>\n      <td>...</td>\n      <td>...</td>\n      <td>...</td>\n      <td>...</td>\n      <td>...</td>\n      <td>...</td>\n      <td>...</td>\n      <td>...</td>\n      <td>...</td>\n      <td>...</td>\n      <td>...</td>\n      <td>...</td>\n      <td>...</td>\n      <td>...</td>\n      <td>...</td>\n    </tr>\n    <tr>\n      <th>1196</th>\n      <td>URSALUNA</td>\n      <td>URSALUNA</td>\n      <td>901</td>\n      <td>9</td>\n      <td>Ursaluna</td>\n      <td>Ground</td>\n      <td>Normal</td>\n      <td>None</td>\n      <td>[TACKLE_FAST, ROCK_SMASH_FAST]</td>\n      <td>[FIRE_PUNCH, THUNDER_PUNCH, AERIAL_ACE, ICE_PU...</td>\n      <td>[]</td>\n      <td>[HIGH_HORSEPOWER]</td>\n      <td>{'image': 'https://raw.githubusercontent.com/P...</td>\n      <td>NaN</td>\n      <td>False</td>\n      <td>[]</td>\n      <td>[{'form': None, 'costume': None, 'isFemale': F...</td>\n      <td>277.0</td>\n      <td>243.0</td>\n      <td>181.0</td>\n    </tr>\n    <tr>\n      <th>1197</th>\n      <td>SNEASLER</td>\n      <td>SNEASLER</td>\n      <td>903</td>\n      <td>9</td>\n      <td>Sneasler</td>\n      <td>Fighting</td>\n      <td>Poison</td>\n      <td>None</td>\n      <td>[ROCK_SMASH_FAST, POISON_JAB_FAST, SHADOW_CLAW...</td>\n      <td>[AERIAL_ACE, CLOSE_COMBAT, X_SCISSOR]</td>\n      <td>[]</td>\n      <td>[]</td>\n      <td>{'image': 'https://raw.githubusercontent.com/P...</td>\n      <td>NaN</td>\n      <td>False</td>\n      <td>[]</td>\n      <td>[{'form': None, 'costume': None, 'isFemale': F...</td>\n      <td>190.0</td>\n      <td>259.0</td>\n      <td>158.0</td>\n    </tr>\n    <tr>\n      <th>1198</th>\n      <td>OVERQWIL</td>\n      <td>OVERQWIL</td>\n      <td>904</td>\n      <td>9</td>\n      <td>Overqwil</td>\n      <td>Dark</td>\n      <td>Poison</td>\n      <td>None</td>\n      <td>[POISON_STING_FAST, POISON_JAB_FAST]</td>\n      <td>[AQUA_TAIL, ICE_BEAM, SLUDGE_BOMB, DARK_PULSE,...</td>\n      <td>[]</td>\n      <td>[]</td>\n      <td>{'image': 'https://raw.githubusercontent.com/P...</td>\n      <td>NaN</td>\n      <td>False</td>\n      <td>[]</td>\n      <td>[{'form': None, 'costume': None, 'isFemale': F...</td>\n      <td>198.0</td>\n      <td>222.0</td>\n      <td>171.0</td>\n    </tr>\n    <tr>\n      <th>1199</th>\n      <td>GIMMIGHOUL</td>\n      <td>GIMMIGHOUL</td>\n      <td>999</td>\n      <td>9</td>\n      <td>Gimmighoul</td>\n      <td>Ghost</td>\n      <td>None</td>\n      <td>None</td>\n      <td>[ASTONISH_FAST]</td>\n      <td>[SHADOW_BALL]</td>\n      <td>[]</td>\n      <td>[]</td>\n      <td>{'image': 'https://raw.githubusercontent.com/P...</td>\n      <td>GHOLDENGO</td>\n      <td>False</td>\n      <td>[]</td>\n      <td>[{'form': None, 'costume': None, 'isFemale': F...</td>\n      <td>128.0</td>\n      <td>140.0</td>\n      <td>76.0</td>\n    </tr>\n    <tr>\n      <th>1200</th>\n      <td>GHOLDENGO</td>\n      <td>GHOLDENGO</td>\n      <td>1000</td>\n      <td>9</td>\n      <td>Gholdengo</td>\n      <td>Steel</td>\n      <td>Ghost</td>\n      <td>None</td>\n      <td>[ASTONISH_FAST, HEX_FAST]</td>\n      <td>[SHADOW_BALL, DAZZLING_GLEAM, FOCUS_BLAST]</td>\n      <td>[]</td>\n      <td>[]</td>\n      <td>{'image': 'https://raw.githubusercontent.com/P...</td>\n      <td>NaN</td>\n      <td>False</td>\n      <td>[]</td>\n      <td>[{'form': None, 'costume': None, 'isFemale': F...</td>\n      <td>202.0</td>\n      <td>252.0</td>\n      <td>190.0</td>\n    </tr>\n  </tbody>\n</table>\n<p>1201 rows × 20 columns</p>\n</div>"
     },
     "execution_count": 53,
     "metadata": {},
     "output_type": "execute_result"
    }
   ],
   "source": [
    "df"
   ],
   "metadata": {
    "collapsed": false,
    "ExecuteTime": {
     "end_time": "2023-07-13T19:14:43.489051Z",
     "start_time": "2023-07-13T19:14:43.486688Z"
    }
   }
  },
  {
   "cell_type": "code",
   "execution_count": 348,
   "outputs": [
    {
     "ename": "NameError",
     "evalue": "name 'moves_df' is not defined",
     "output_type": "error",
     "traceback": [
      "\u001B[0;31m---------------------------------------------------------------------------\u001B[0m",
      "\u001B[0;31mNameError\u001B[0m                                 Traceback (most recent call last)",
      "Cell \u001B[0;32mIn[348], line 9\u001B[0m\n\u001B[1;32m      6\u001B[0m     \u001B[38;5;28;01mreturn\u001B[39;00m _mov\n\u001B[1;32m      8\u001B[0m \u001B[38;5;66;03m# moves_dict = {}\u001B[39;00m\n\u001B[0;32m----> 9\u001B[0m moves_dict \u001B[38;5;241m=\u001B[39m {na:move_dict(mov) \u001B[38;5;28;01mfor\u001B[39;00m ent \u001B[38;5;129;01min\u001B[39;00m \u001B[43mmoves_df\u001B[49m \u001B[38;5;28;01mfor\u001B[39;00m na,mov \u001B[38;5;129;01min\u001B[39;00m ent\u001B[38;5;241m.\u001B[39mitems()}\n\u001B[1;32m     10\u001B[0m moves_df \u001B[38;5;241m=\u001B[39m pd\u001B[38;5;241m.\u001B[39mDataFrame\u001B[38;5;241m.\u001B[39mfrom_dict(moves_dict, orient\u001B[38;5;241m=\u001B[39m\u001B[38;5;124m'\u001B[39m\u001B[38;5;124mindex\u001B[39m\u001B[38;5;124m'\u001B[39m)\n\u001B[1;32m     11\u001B[0m moves_df\u001B[38;5;241m.\u001B[39mcolumns\n",
      "\u001B[0;31mNameError\u001B[0m: name 'moves_df' is not defined"
     ]
    }
   ],
   "source": [
    "def move_dict(_mov):\n",
    "    _mov['names'] = _mov['names']['English'] if isinstance(_mov['names'],dict) else _mov['names']\n",
    "    _mov['type'] = _mov['type']['names']['English'] if isinstance(_mov['type'],dict) else _mov['type']\n",
    "    _mov = _mov | _mov['combat']\n",
    "    [_mov.pop(col, None) for col in ['id','combat','buffs']]\n",
    "    return _mov\n",
    "\n",
    "# moves_dict = {}\n",
    "moves_dict = {na:move_dict(mov) for ent in moves_df for na,mov in ent.items()}\n",
    "moves_df = pd.DataFrame.from_dict(moves_dict, orient='index')\n",
    "moves_df.columns\n",
    "# moves_dict\n"
   ],
   "metadata": {
    "collapsed": false,
    "ExecuteTime": {
     "end_time": "2023-07-13T15:20:51.936890Z",
     "start_time": "2023-07-13T15:20:51.914313Z"
    }
   }
  },
  {
   "cell_type": "code",
   "execution_count": 127,
   "outputs": [
    {
     "data": {
      "text/plain": "              power  energy  durationMs    type         names  turns\nVine Whip         5       8         600   Grass     Vine Whip      2\nTackle            3       3         500  Normal        Tackle      1\nRazor Leaf       10       4        1000   Grass    Razor Leaf      2\nEmber             7       6        1000    Fire         Ember      2\nScratch           4       2         500  Normal       Scratch      1\n...             ...     ...         ...     ...           ...    ...\nSmack Down       12       8        1200    Rock    Smack Down      3\nLeafage           6       7         700   Grass       Leafage      2\nGust             16      12        2000  Flying          Gust      4\nMagical Leaf     10      10        1400   Grass  Magical Leaf      3\nStruggle         35    -100        2200  Normal      Struggle      1\n\n[75 rows x 6 columns]",
      "text/html": "<div>\n<style scoped>\n    .dataframe tbody tr th:only-of-type {\n        vertical-align: middle;\n    }\n\n    .dataframe tbody tr th {\n        vertical-align: top;\n    }\n\n    .dataframe thead th {\n        text-align: right;\n    }\n</style>\n<table border=\"1\" class=\"dataframe\">\n  <thead>\n    <tr style=\"text-align: right;\">\n      <th></th>\n      <th>power</th>\n      <th>energy</th>\n      <th>durationMs</th>\n      <th>type</th>\n      <th>names</th>\n      <th>turns</th>\n    </tr>\n  </thead>\n  <tbody>\n    <tr>\n      <th>Vine Whip</th>\n      <td>5</td>\n      <td>8</td>\n      <td>600</td>\n      <td>Grass</td>\n      <td>Vine Whip</td>\n      <td>2</td>\n    </tr>\n    <tr>\n      <th>Tackle</th>\n      <td>3</td>\n      <td>3</td>\n      <td>500</td>\n      <td>Normal</td>\n      <td>Tackle</td>\n      <td>1</td>\n    </tr>\n    <tr>\n      <th>Razor Leaf</th>\n      <td>10</td>\n      <td>4</td>\n      <td>1000</td>\n      <td>Grass</td>\n      <td>Razor Leaf</td>\n      <td>2</td>\n    </tr>\n    <tr>\n      <th>Ember</th>\n      <td>7</td>\n      <td>6</td>\n      <td>1000</td>\n      <td>Fire</td>\n      <td>Ember</td>\n      <td>2</td>\n    </tr>\n    <tr>\n      <th>Scratch</th>\n      <td>4</td>\n      <td>2</td>\n      <td>500</td>\n      <td>Normal</td>\n      <td>Scratch</td>\n      <td>1</td>\n    </tr>\n    <tr>\n      <th>...</th>\n      <td>...</td>\n      <td>...</td>\n      <td>...</td>\n      <td>...</td>\n      <td>...</td>\n      <td>...</td>\n    </tr>\n    <tr>\n      <th>Smack Down</th>\n      <td>12</td>\n      <td>8</td>\n      <td>1200</td>\n      <td>Rock</td>\n      <td>Smack Down</td>\n      <td>3</td>\n    </tr>\n    <tr>\n      <th>Leafage</th>\n      <td>6</td>\n      <td>7</td>\n      <td>700</td>\n      <td>Grass</td>\n      <td>Leafage</td>\n      <td>2</td>\n    </tr>\n    <tr>\n      <th>Gust</th>\n      <td>16</td>\n      <td>12</td>\n      <td>2000</td>\n      <td>Flying</td>\n      <td>Gust</td>\n      <td>4</td>\n    </tr>\n    <tr>\n      <th>Magical Leaf</th>\n      <td>10</td>\n      <td>10</td>\n      <td>1400</td>\n      <td>Grass</td>\n      <td>Magical Leaf</td>\n      <td>3</td>\n    </tr>\n    <tr>\n      <th>Struggle</th>\n      <td>35</td>\n      <td>-100</td>\n      <td>2200</td>\n      <td>Normal</td>\n      <td>Struggle</td>\n      <td>1</td>\n    </tr>\n  </tbody>\n</table>\n<p>75 rows × 6 columns</p>\n</div>"
     },
     "execution_count": 127,
     "metadata": {},
     "output_type": "execute_result"
    }
   ],
   "source": [
    "moves_df"
   ],
   "metadata": {
    "collapsed": false,
    "ExecuteTime": {
     "end_time": "2023-07-11T16:21:01.875307Z",
     "start_time": "2023-07-11T16:21:01.859918Z"
    }
   }
  },
  {
   "cell_type": "code",
   "execution_count": 285,
   "outputs": [],
   "source": [
    "\n",
    "def find_pok(r):\n",
    "    try:\n",
    "        pok_lookup = (dex_df.dexNr.astype('int64')==int(r['Pokemon Number']))\n",
    "        pok_df = dex_df.loc[pok_lookup,['names','form','at','de','hp']]\n",
    "        if isinstance(r['Form'],str):\n",
    "            pok_df = pok_df.loc[pok_df.form==r['Form'],['at','de','hp']]\n",
    "        else:\n",
    "            pok_df = pok_df.loc[pok_df.form.isna(),['at','de','hp']]\n",
    "        return pok_df.take([0]).squeeze(axis = 0)\n",
    "    except ValueError as err:\n",
    "        raise err\n",
    "\n",
    "\n",
    "# data['lvl_m'] = data['Level Min'].apply(lambda x: cpms_calc[x])\n",
    "\n",
    "data[['c_at','c_de','c_hp']] = data.apply(find_pok, axis=1)\n",
    "\n",
    "\n"
   ],
   "metadata": {
    "collapsed": false,
    "ExecuteTime": {
     "end_time": "2023-07-12T11:17:47.642313Z",
     "start_time": "2023-07-12T11:17:46.946917Z"
    }
   }
  },
  {
   "cell_type": "code",
   "execution_count": 286,
   "outputs": [],
   "source": [
    "def calcCPBackend(r):\n",
    "    # if verbose:\n",
    "        # print (atk * math.pow(defe, 0.5) * math.pow(sta, 0.5) * math.pow(cpm, 2) / 10)\n",
    "    try:\n",
    "        defe = r['c_de']+int(r['Def IV'])\n",
    "        atk = r['c_at']+r['Atk IV']\n",
    "        sta = r['c_hp']+r['Sta IV']\n",
    "        # print(atk, defe, sta)\n",
    "        return int(max(10, math.floor(atk * math.pow(defe, 0.5) * math.pow(sta, 0.5) * math.pow(cpms[math.floor((r['Level Min']-1)*2)], 2) / 10)))\n",
    "    except ValueError as err:\n",
    "        # print (r)\n",
    "        return 0\n",
    "\n",
    "def calcHP(r):\n",
    "    try:\n",
    "        mul = cpms[math.floor((r['Level Min']-1)*2)]\n",
    "        sta = r['c_hp']+r['Sta IV']\n",
    "        return int(max(10, math.floor(mul * sta)))\n",
    "    except ValueError:\n",
    "        return 0\n",
    "\n"
   ],
   "metadata": {
    "collapsed": false,
    "ExecuteTime": {
     "end_time": "2023-07-12T11:17:59.737230Z",
     "start_time": "2023-07-12T11:17:59.714011Z"
    }
   }
  },
  {
   "cell_type": "code",
   "execution_count": 287,
   "outputs": [],
   "source": [
    "data['cp_calc'] = data.apply(calcCPBackend, axis = 1)\n",
    "data['hp_calc'] = data.apply(calcHP, axis = 1)\n"
   ],
   "metadata": {
    "collapsed": false,
    "ExecuteTime": {
     "end_time": "2023-07-12T11:18:03.335105Z",
     "start_time": "2023-07-12T11:18:03.310250Z"
    }
   }
  },
  {
   "cell_type": "code",
   "execution_count": 279,
   "outputs": [
    {
     "data": {
      "text/plain": "Index\n1      0.517394\n2      0.517394\n3      0.640653\n4      0.290250\n5      0.674582\n         ...   \n820    0.731700\n821    0.719399\n822    0.375236\n823    0.462798\n824    0.517394\nName: Level Min, Length: 824, dtype: float64"
     },
     "execution_count": 279,
     "metadata": {},
     "output_type": "execute_result"
    }
   ],
   "source": [
    "data['Level Min'].apply(lambda r: cpms[math.floor((r-1)*2)])"
   ],
   "metadata": {
    "collapsed": false,
    "ExecuteTime": {
     "end_time": "2023-07-12T11:15:03.023713Z",
     "start_time": "2023-07-12T11:15:03.002042Z"
    }
   }
  },
  {
   "cell_type": "code",
   "execution_count": 525,
   "outputs": [
    {
     "name": "stdout",
     "output_type": "stream",
     "text": [
      "15.0 1166.0422969261565 1233.7514094197866 1227.9591492816655\n",
      "15.5 1204.892122406224 1295.9207771668189 1289.8366420627492\n",
      "16.0 1243.7419478862907 1359.100676185623 1352.7199218373337\n",
      "16.5 1282.5917511887376 1423.2751577737083 1416.5931147794654\n",
      "17.0 1321.4415544911838 1488.4290747822697 1481.4411448537144\n",
      "17.5 1360.2914692588465 1554.5481101877137 1547.2497622525605\n",
      "18.0 1399.1413840265107 1621.6181965067356 1614.0049655372202\n",
      "18.5 1437.9911812012451 1689.6258270108763 1681.6933113911068\n",
      "19.0 1476.8409783759741 1758.5584467636793 1750.302303821127\n",
      "19.5 1494.3430301935055 1802.6516616422848 1802.6516616422848\n",
      "20.0 1496.1540958576547 1827.8205904119552 1827.8205904119552\n",
      "20.5 1496.1652037655901 1850.5479152419377 1850.5479152419377\n",
      "21.0 1496.1652037655901 1850.5479152419377 1850.5479152419377\n"
     ]
    },
    {
     "data": {
      "text/plain": "(0, 15, 15, 21.0, 1496.1652037655901, 1899.4955733120307)"
     },
     "execution_count": 525,
     "metadata": {},
     "output_type": "execute_result"
    }
   ],
   "source": [
    "\n",
    "\n",
    "def stats_pvp(at_iv = 7, de_iv = 15, hp_iv = 15, poke_id = 2, level = 20):\n",
    "    mul_stat = cpms[math.floor((level-1)*2)]\n",
    "    de_stat = (dex_df.iloc[poke_id,9]+de_iv)\n",
    "    hp_stat = (dex_df.iloc[poke_id,10]+hp_iv)\n",
    "    de = math.pow(de_stat, 0.5)\n",
    "    hp = math.pow(hp_stat, 0.5)\n",
    "    base_at = dex_df.iloc[poke_id,8]\n",
    "    l_start = (level-1)*2\n",
    "    lvl_cp = 0\n",
    "    stat_prev = 1000\n",
    "    cp = 0\n",
    "    lvl_stat = 0\n",
    "    for lvl in range(l_start,len(cpms),1):\n",
    "        lvl_stat_prev = lvl_stat\n",
    "        ret_lvl = (lvl/2)+1\n",
    "        mul_stat = cpms[lvl]\n",
    "        # at_ret = n\n",
    "        for n in range (at_iv, 16):\n",
    "            at = base_at+n\n",
    "            cp1 = (at*de*hp*math.pow(mul_stat,2))/10\n",
    "            at_max = n\n",
    "            if cp1 > 1500 or cp1 == lvl_cp:\n",
    "                lvl_stat_prev = lvl_stat\n",
    "                # at_max = at_ret\n",
    "                break\n",
    "            # cp = cp1\n",
    "            lvl_stat_prev = lvl_stat\n",
    "            lvl_stat = ((at*mul_stat)*(de_stat*mul_stat)*(hp_stat*mul_stat))/1000\n",
    "            at_max = n\n",
    "            cp = cp1\n",
    "        print((lvl/2)+1, cp, lvl_stat, lvl_stat_prev)\n",
    "        if lvl_stat < lvl_stat_prev:\n",
    "            lvl_stat_prev = lvl_stat\n",
    "            print((lvl/2)+1, cp, lvl_stat, lvl_stat_prev)\n",
    "            break\n",
    "        if cp > 1500 or cp == lvl_cp:\n",
    "            break\n",
    "        # print((lvl/2)+1, cp, lvl_stat, lvl_stat_prev)\n",
    "        lvl_cp = cp\n",
    "    # at_iv = n\n",
    "    # return (at_iv,de_iv, hp_iv, level, cp, ((at*mul_stat)*(de_stat*mul_stat)*(\n",
    "    return (at_max,de_iv, hp_iv, ret_lvl, cp, ((at*mul_stat)*(de_stat*mul_stat)*(hp_stat*mul_stat))/1000)\n",
    "\n",
    "stats_pvp(0,15,15,2,15)\n",
    "# int(max(10, math.floor(at * math.pow(de, 0.5) * math.pow(sta, 0.5) * math.pow(cpms[math.floor((r['Level Min']-1)*2)], 2) / 10)))"
   ],
   "metadata": {
    "collapsed": false,
    "ExecuteTime": {
     "end_time": "2023-07-12T16:30:47.201233Z",
     "start_time": "2023-07-12T16:30:47.190108Z"
    }
   }
  },
  {
   "cell_type": "code",
   "execution_count": 295,
   "outputs": [
    {
     "data": {
      "text/plain": "14.2828568570857"
     },
     "execution_count": 295,
     "metadata": {},
     "output_type": "execute_result"
    }
   ],
   "source": [
    "|math.pow((dex_df.iloc[2,9]+15), 0.5)\n"
   ],
   "metadata": {
    "collapsed": false,
    "ExecuteTime": {
     "end_time": "2023-07-12T12:14:59.696845Z",
     "start_time": "2023-07-12T12:14:59.685585Z"
    }
   }
  },
  {
   "cell_type": "code",
   "execution_count": 416,
   "outputs": [
    {
     "data": {
      "text/plain": "1850.5479152419377"
     },
     "execution_count": 416,
     "metadata": {},
     "output_type": "execute_result"
    }
   ],
   "source": [
    "at = cpms_calc[20.5]*(dex_df.iloc[2,8]+2)\n",
    "de = cpms_calc[20.5]*(dex_df.iloc[2,9]+15)\n",
    "hp = cpms_calc[20.5]*(dex_df.iloc[2,10]+15)\n",
    "(at*de*hp)/1000\n"
   ],
   "metadata": {
    "collapsed": false,
    "ExecuteTime": {
     "end_time": "2023-07-12T13:54:12.202713Z",
     "start_time": "2023-07-12T13:54:12.182424Z"
    }
   }
  },
  {
   "cell_type": "code",
   "execution_count": 275,
   "outputs": [
    {
     "data": {
      "text/plain": "2"
     },
     "execution_count": 275,
     "metadata": {},
     "output_type": "execute_result"
    }
   ],
   "source": [
    "level = 1.5\n",
    "level += 0.5\n",
    "math.floor((level-1) * 2)\n"
   ],
   "metadata": {
    "collapsed": false,
    "ExecuteTime": {
     "end_time": "2023-07-12T11:08:22.173391Z",
     "start_time": "2023-07-12T11:08:22.115323Z"
    }
   }
  },
  {
   "cell_type": "code",
   "execution_count": 259,
   "outputs": [],
   "source": [
    "def calcPVPBackend(r):\n",
    "    # if verbose:\n",
    "    # print (atk * math.pow(defe, 0.5) * math.pow(sta, 0.5) * math.pow(cpm, 2) / 10)\n",
    "    try:\n",
    "        defe = math.pow(r['lvl_m'],2)*(r['c_de']+int(r['Def IV']))\n",
    "        atk = math.pow(r['lvl_m'],2)*(r['c_at']+r['Atk IV'])\n",
    "        sta = math.pow(r['lvl_m'],2)*(r['c_hp']+r['Sta IV'])\n",
    "        # print(atk, defe, sta)\n",
    "        return int(atk * defe * sta)\n",
    "    except ValueError as err:\n",
    "        # print (r)\n",
    "        return 0"
   ],
   "metadata": {
    "collapsed": false,
    "ExecuteTime": {
     "end_time": "2023-07-12T10:40:15.232494Z",
     "start_time": "2023-07-12T10:40:15.226600Z"
    }
   }
  },
  {
   "cell_type": "code",
   "execution_count": 260,
   "outputs": [
    {
     "data": {
      "text/plain": "Index\n1        40084\n2       160077\n3       127241\n4         1088\n5       579149\n        ...   \n820    1131349\n821    1451917\n822      26618\n823      61095\n824      39265\nLength: 824, dtype: int64"
     },
     "execution_count": 260,
     "metadata": {},
     "output_type": "execute_result"
    }
   ],
   "source": [
    "data.apply(calcPVPBackend, axis = 1)\n"
   ],
   "metadata": {
    "collapsed": false,
    "ExecuteTime": {
     "end_time": "2023-07-12T10:40:16.449991Z",
     "start_time": "2023-07-12T10:40:16.413268Z"
    }
   }
  },
  {
   "cell_type": "code",
   "execution_count": null,
   "outputs": [],
   "source": [],
   "metadata": {
    "collapsed": false
   }
  }
 ],
 "metadata": {
  "kernelspec": {
   "name": "poke",
   "language": "python",
   "display_name": "poke"
  },
  "language_info": {
   "codemirror_mode": {
    "name": "ipython",
    "version": 2
   },
   "file_extension": ".py",
   "mimetype": "text/x-python",
   "name": "python",
   "nbconvert_exporter": "python",
   "pygments_lexer": "ipython2",
   "version": "2.7.6"
  }
 },
 "nbformat": 4,
 "nbformat_minor": 0
}
